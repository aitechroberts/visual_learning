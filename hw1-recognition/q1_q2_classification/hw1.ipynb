{
 "cells": [
  {
   "cell_type": "code",
   "execution_count": 3,
   "id": "e32595ce",
   "metadata": {},
   "outputs": [
    {
     "name": "stdout",
     "output_type": "stream",
     "text": [
      "args.batch_size = 32\n",
      "args.device = cuda\n",
      "args.epochs = 5\n",
      "args.gamma = 0.87\n",
      "args.inp_size = 64\n",
      "args.log_every = 100\n",
      "args.lr = 0.001\n",
      "args.save_at_end = False\n",
      "args.save_freq = -1\n",
      "args.step_size = 2\n",
      "args.test_batch_size = 1000\n",
      "args.val_every = 70\n",
      "\n",
      "Train Epoch: 0 [0 (0%)]\tLoss: 0.694501\n",
      "map:  0.08280466330905135\n",
      "map:  0.15041740092815858\n",
      "Train Epoch: 0 [100 (64%)]\tLoss: 0.201839\n",
      "map:  0.1867245604501064\n",
      "Train Epoch: 1 [200 (27%)]\tLoss: 0.175778\n",
      "map:  0.19941988091064236\n",
      "map:  0.21985056923779842\n",
      "Train Epoch: 1 [300 (91%)]\tLoss: 0.152669\n",
      "map:  0.2101807447108422\n",
      "Train Epoch: 2 [400 (55%)]\tLoss: 0.186508\n",
      "map:  0.22792753896876417\n",
      "map:  0.22872393041894107\n",
      "Train Epoch: 3 [500 (18%)]\tLoss: 0.166465\n",
      "map:  0.22660402130369892\n",
      "Train Epoch: 3 [600 (82%)]\tLoss: 0.192111\n",
      "map:  0.23105571070457617\n",
      "Train Epoch: 4 [700 (46%)]\tLoss: 0.125591\n",
      "map:  0.2240769163820887\n",
      "map:  0.22125296252244894\n",
      "test map: 0.2205755809704628\n"
     ]
    }
   ],
   "source": [
    "import torch\n",
    "import trainer\n",
    "from utils import ARGS\n",
    "from simple_cnn import SimpleCNN\n",
    "from voc_dataset import VOCDataset\n",
    "import numpy as np\n",
    "import random\n",
    "\n",
    "np.random.seed(0)\n",
    "torch.manual_seed(0)\n",
    "random.seed(0)\n",
    "\n",
    "##################################################################\n",
    "# TODO: Create hyperparameter argument class\n",
    "# Use image size of 64x64 in Q1. We will use a default size of\n",
    "# 224x224 for the rest of the questions.\n",
    "# You should experiment and choose the correct hyperparameters\n",
    "# You should get a map of around 22 in 5 epochs\n",
    "##################################################################\n",
    "args = ARGS(\n",
    "    epochs=5,\n",
    "    inp_size=64,\n",
    "    use_cuda=True,\n",
    "    val_every=70,\n",
    "    lr= 1e-3, \n",
    "    batch_size= 32,\n",
    "    step_size= 2, \n",
    "    gamma= 0.87,\n",
    "    )\n",
    "##################################################################\n",
    "#                          END OF YOUR CODE                      #\n",
    "##################################################################\n",
    "\n",
    "print(args)\n",
    "\n",
    "# initializes the model\n",
    "model = SimpleCNN(num_classes=len(VOCDataset.CLASS_NAMES), inp_size=64, c_dim=3)\n",
    "# initializes Adam optimizer and simple StepLR scheduler\n",
    "optimizer = torch.optim.Adam(model.parameters(), lr=args.lr)\n",
    "scheduler = torch.optim.lr_scheduler.StepLR(optimizer, step_size=args.step_size, gamma=args.gamma)\n",
    "# trains model using your training code and reports test map\n",
    "test_ap, test_map = trainer.train(args, model, optimizer, scheduler)\n",
    "print('test map:', test_map)\n"
   ]
  }
 ],
 "metadata": {
  "kernelspec": {
   "display_name": "cmu16824hw1 (3.10.12)",
   "language": "python",
   "name": "python3"
  },
  "language_info": {
   "codemirror_mode": {
    "name": "ipython",
    "version": 3
   },
   "file_extension": ".py",
   "mimetype": "text/x-python",
   "name": "python",
   "nbconvert_exporter": "python",
   "pygments_lexer": "ipython3",
   "version": "3.10.12"
  }
 },
 "nbformat": 4,
 "nbformat_minor": 5
}
